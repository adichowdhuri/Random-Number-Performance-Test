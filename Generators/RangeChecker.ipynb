{
 "cells": [
  {
   "cell_type": "code",
   "execution_count": 1,
   "id": "38c45d2a",
   "metadata": {},
   "outputs": [],
   "source": [
    "import pandas as pd\n",
    "import numpy as np"
   ]
  },
  {
   "cell_type": "code",
   "execution_count": 2,
   "id": "4e36d91a",
   "metadata": {},
   "outputs": [],
   "source": [
    "cpp_rand = pd.read_csv(r\"U:/C++/research_paper/crand.csv\")"
   ]
  },
  {
   "cell_type": "code",
   "execution_count": 3,
   "id": "d7a28209",
   "metadata": {},
   "outputs": [
    {
     "name": "stdout",
     "output_type": "stream",
     "text": [
      "0       41\n",
      "1    18467\n",
      "2     6334\n",
      "3    26500\n",
      "4    19169\n",
      "5    15724\n",
      "6    11478\n",
      "7    29358\n",
      "8    26962\n",
      "9    24464\n",
      "Name: Random Number, dtype: int64\n"
     ]
    }
   ],
   "source": [
    "max_gen = cpp_rand['Random Number']\n",
    "print(max_gen.head(10))"
   ]
  },
  {
   "cell_type": "code",
   "execution_count": 5,
   "id": "8ae565fd",
   "metadata": {},
   "outputs": [],
   "source": [
    "max_num = cpp_rand.max()"
   ]
  },
  {
   "cell_type": "code",
   "execution_count": 6,
   "id": "a782f40b",
   "metadata": {},
   "outputs": [
    {
     "data": {
      "text/plain": [
       "Seed             1702488255700\n",
       "Random Number            32767\n",
       "dtype: int64"
      ]
     },
     "execution_count": 6,
     "metadata": {},
     "output_type": "execute_result"
    }
   ],
   "source": [
    "max_num"
   ]
  },
  {
   "cell_type": "code",
   "execution_count": 7,
   "id": "63d7a2b0",
   "metadata": {},
   "outputs": [],
   "source": [
    "min_num = cpp_rand.min()"
   ]
  },
  {
   "cell_type": "code",
   "execution_count": 8,
   "id": "7e4f146c",
   "metadata": {},
   "outputs": [
    {
     "data": {
      "text/plain": [
       "Seed             1702488255287\n",
       "Random Number                0\n",
       "dtype: int64"
      ]
     },
     "execution_count": 8,
     "metadata": {},
     "output_type": "execute_result"
    }
   ],
   "source": [
    "min_num"
   ]
  },
  {
   "cell_type": "code",
   "execution_count": null,
   "id": "4ad30468",
   "metadata": {},
   "outputs": [],
   "source": []
  }
 ],
 "metadata": {
  "kernelspec": {
   "display_name": "Python 3 (ipykernel)",
   "language": "python",
   "name": "python3"
  },
  "language_info": {
   "codemirror_mode": {
    "name": "ipython",
    "version": 3
   },
   "file_extension": ".py",
   "mimetype": "text/x-python",
   "name": "python",
   "nbconvert_exporter": "python",
   "pygments_lexer": "ipython3",
   "version": "3.10.9"
  }
 },
 "nbformat": 4,
 "nbformat_minor": 5
}
